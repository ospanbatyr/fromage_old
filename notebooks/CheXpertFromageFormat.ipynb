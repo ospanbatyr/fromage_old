{
 "cells": [
  {
   "cell_type": "code",
   "execution_count": 49,
   "id": "1e0f228f-0a68-4aa6-9f18-7597285e9521",
   "metadata": {
    "tags": []
   },
   "outputs": [],
   "source": [
    "PATH = '/userfiles/oince22/CheXpert/chexpertchestxrays-u20210408/CheXpert-v1.0/CheXpert-v1.0'"
   ]
  },
  {
   "cell_type": "code",
   "execution_count": 56,
   "id": "06748ed8-46ee-496b-aa43-10aca90a1d9f",
   "metadata": {
    "tags": []
   },
   "outputs": [],
   "source": [
    "import os\n",
    "import csv\n",
    "import os.path as osp\n",
    "from PIL import Image"
   ]
  },
  {
   "cell_type": "code",
   "execution_count": 76,
   "id": "4e9ae1b6-6bb2-4602-8457-53e241f9ac31",
   "metadata": {
    "tags": []
   },
   "outputs": [],
   "source": [
    "def create_csv(read_fname, write_fname, split):\n",
    "    im_sizes = set()\n",
    "    \n",
    "    with open(osp.join(PATH, read_fname), \"r\") as f:\n",
    "        csv_file = [line.rstrip() for line in f]\n",
    "\n",
    "    columns = csv_file[0].split(\",\")\n",
    "    csv_file = csv_file[1:]\n",
    "    pairs = [] # caption, img location\n",
    "\n",
    "    for line in csv_file:\n",
    "        cols = line.split(\",\")\n",
    "        img_name = cols[0]\n",
    "        img_name = \"/\".join(img_name.split(\"/\")[2:])\n",
    "\n",
    "        caption = \"\"\n",
    "        for col_name, col_val in zip(columns[5:-1], cols[5:-1]):\n",
    "            if col_val == \"1.0\":\n",
    "                caption += f\"positive {col_name.lower()} , \"\n",
    "            elif col_val == \"0.0\":\n",
    "                caption += f\"negative {col_name.lower()} , \"\n",
    "            elif col_val == \"-1.0\":\n",
    "                caption += f\"uncertain {col_name.lower()} , \"\n",
    "\n",
    "        try:\n",
    "            last_comma = caption.rindex(\",\")\n",
    "        except Exception as e:\n",
    "            continue\n",
    "        caption = caption[:last_comma] + \".\"\n",
    "\n",
    "        pairs.append((caption, img_name))\n",
    "\n",
    "    with open(write_fname, 'w') as f:\n",
    "        writer = csv.writer(f, delimiter='\\t')\n",
    "        writer.writerow([\"caption\", \"image\"])\n",
    "        for caption, img_name in pairs:\n",
    "            #print(caption, img_name)\n",
    "            writer.writerow([caption, img_name])\n",
    "            \n",
    "    for caption, img_name in pairs:\n",
    "        img_path = osp.join(PATH, split, img_name)\n",
    "        im = Image.open(img_path)\n",
    "        width, height = im.size\n",
    "        #print(width, height)\n",
    "        im_sizes.update([f\"{width}x{height}\"])\n",
    "        \n",
    "    print(im_sizes)"
   ]
  },
  {
   "cell_type": "code",
   "execution_count": 77,
   "id": "2ba196f1-24f1-48c4-9849-55e4d32cbab8",
   "metadata": {
    "tags": []
   },
   "outputs": [
    {
     "name": "stdout",
     "output_type": "stream",
     "text": [
      "{'1701x2021', '3224x2800', '1971x2022', '3730x3062', '2022x2022', '2960x2684', '1751x2016', '2021x1751', '3060x2548', '1931x2011', '2824x2793', '1481x2006', '2021x1631', '2021x2021', '1831x1760', '2022x1751', '2022x2021', '2021x2016', '4240x3480', '1751x2022', '3256x2719', '2991x2800', '1711x2016', '2020x2021', '2021x2022', '1760x2140', '1611x2021', '1721x2006', '3272x2800', '2494x2048', '1871x1862', '2828x2320', '3127x2800', '1864x1866', '1721x2016', '3312x2800', '3408x2800', '3352x2800', '2320x2828', '3358x2701', '1941x2001', '2740x2308', '2014x2014', '3368x2800', '2017x1721', '3125x2800', '1990x2021'}\n"
     ]
    }
   ],
   "source": [
    "create_csv(\"valid.csv\", \"CheXpert_val.tsv\", \"valid\")"
   ]
  },
  {
   "cell_type": "code",
   "execution_count": 67,
   "id": "b3ff0e71-1673-472e-8063-a41b1eaff172",
   "metadata": {
    "tags": []
   },
   "outputs": [
    {
     "name": "stderr",
     "output_type": "stream",
     "text": [
      "\n",
      "KeyboardInterrupt\n",
      "\n"
     ]
    }
   ],
   "source": [
    "create_csv(\"train.csv\", \"CheXpert_train.tsv\", \"train\")"
   ]
  },
  {
   "cell_type": "code",
   "execution_count": null,
   "id": "8805e240-9b00-4723-acdd-fdb1aebf9381",
   "metadata": {},
   "outputs": [],
   "source": []
  }
 ],
 "metadata": {
  "kernelspec": {
   "display_name": "Python 3 (ipykernel)",
   "language": "python",
   "name": "python3"
  },
  "language_info": {
   "codemirror_mode": {
    "name": "ipython",
    "version": 3
   },
   "file_extension": ".py",
   "mimetype": "text/x-python",
   "name": "python",
   "nbconvert_exporter": "python",
   "pygments_lexer": "ipython3",
   "version": "3.9.16"
  }
 },
 "nbformat": 4,
 "nbformat_minor": 5
}
